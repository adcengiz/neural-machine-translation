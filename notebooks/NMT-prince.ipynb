{
 "cells": [
  {
   "cell_type": "markdown",
   "metadata": {},
   "source": [
    "<h1 id=\"tocheading\">Spring 2018 NLP Class Project: Neural Machine Translation</h1>\n",
    "<div id=\"toc\"></div>"
   ]
  },
  {
   "cell_type": "code",
   "execution_count": 1,
   "metadata": {},
   "outputs": [
    {
     "data": {
      "application/javascript": [
       "$.getScript('https://kmahelona.github.io/ipython_notebook_goodies/ipython_notebook_toc.js')\n"
      ],
      "text/plain": [
       "<IPython.core.display.Javascript object>"
      ]
     },
     "metadata": {},
     "output_type": "display_data"
    }
   ],
   "source": [
    "%%javascript\n",
    "$.getScript('https://kmahelona.github.io/ipython_notebook_goodies/ipython_notebook_toc.js')"
   ]
  },
  {
   "cell_type": "code",
   "execution_count": 3,
   "metadata": {},
   "outputs": [],
   "source": [
    "from __future__ import unicode_literals, print_function, division\n",
    "from io import open\n",
    "import unicodedata\n",
    "import string\n",
    "import re\n",
    "import random\n",
    "import pandas as pd\n",
    "import spacy\n",
    "import pdb\n",
    "import os\n",
    "from underthesea import word_tokenize\n",
    "import jieba\n",
    "import numpy as np\n",
    "import pandas as pd\n",
    "from torch.utils.data import DataLoader\n",
    "import pickle as pkl\n",
    "import time\n",
    "\n",
    "import torch\n",
    "import torch.nn as nn\n",
    "from torch import optim\n",
    "import torch.nn.functional as F\n",
    "\n",
    "# running on cpu\n",
    "device = torch.device(\"cuda\" if torch.cuda.is_available() else \"cpu\")\n",
    "# device = torch.device(\"cpu\" if torch.cuda.is_available() else \"cpu\")"
   ]
  },
  {
   "cell_type": "markdown",
   "metadata": {},
   "source": [
    "## Part 0: Project Overview\n",
    "\n",
    "The goal of this project is to build a neural machine translation system and experience how recent advances have made their way. Each team will build the following sequence of neural translation systems for two language pairs, __Vietnamese (Vi)→English (En)__ and __Chinese (Zh)→En__ (prepared corpora is be provided):\n",
    "\n",
    "1. Recurrent neural network based encoder-decoder without attention\n",
    "2. Recurrent neural network based encoder-decoder with attention\n",
    "2. Replace the recurrent encoder with either convolutional or self-attention based encoder.\n",
    "4. [Optional] Build either or both fully self-attention translation system or/and multilingual translation system."
   ]
  },
  {
   "cell_type": "markdown",
   "metadata": {},
   "source": [
    "## Part 1: Data Upload & Preprocessing"
   ]
  },
  {
   "cell_type": "code",
   "execution_count": 4,
   "metadata": {},
   "outputs": [],
   "source": [
    "UNK_IDX = 2\n",
    "PAD_IDX = 0\n",
    "SOS_token = 1\n",
    "EOS_token = 3"
   ]
  },
  {
   "cell_type": "code",
   "execution_count": 6,
   "metadata": {},
   "outputs": [],
   "source": [
    "def read_dataset(path):\n",
    "    f = open(path)\n",
    "    list_l = []\n",
    "    for line in f:\n",
    "        list_l.append(line.strip())\n",
    "    df = pd.DataFrame()\n",
    "    df[\"data\"] = list_l\n",
    "    return df\n",
    "\n",
    "# vietnamese -> english\n",
    "vien_en_train = read_dataset(\"data/iwslt-vi-en/train.tok.en\")\n",
    "vien_en_val = read_dataset(\"data/iwslt-vi-en/dev.tok.en\")\n",
    "\n",
    "vien_vi_train = read_dataset(\"data/iwslt-vi-en/train.tok.vi\")\n",
    "vien_vi_val = read_dataset(\"data/iwslt-vi-en/dev.tok.vi\")\n",
    "\n",
    "# chinese -> english\n",
    "zhen_en_train = read_dataset(\"data/iwslt-zh-en/train.tok.en\")\n",
    "zhen_en_val = read_dataset(\"data/iwslt-zh-en/dev.tok.en\")\n",
    "\n",
    "zhen_zh_train = read_dataset(\"data/iwslt-zh-en/train.tok.zh\")\n",
    "zhen_zh_val = read_dataset(\"data/iwslt-zh-en/dev.tok.zh\")"
   ]
  },
  {
   "cell_type": "code",
   "execution_count": 8,
   "metadata": {},
   "outputs": [],
   "source": [
    "# chinese -> english\n",
    "zhen_train = pd.DataFrame()\n",
    "zhen_train[\"en_data\"] = zhen_en_train[\"data\"]\n",
    "zhen_train[\"zh_data\"] = zhen_zh_train[\"data\"]\n",
    "\n",
    "# vietnamese -> english\n",
    "vien_train = pd.DataFrame()\n",
    "vien_train[\"en_data\"] = vien_en_train[\"data\"]\n",
    "vien_train[\"vi_data\"] = vien_vi_train[\"data\"]\n",
    "\n",
    "# chinese -> english\n",
    "zhen_val = pd.DataFrame()\n",
    "zhen_val[\"en_data\"] = zhen_en_val[\"data\"]\n",
    "zhen_val[\"zh_data\"] = zhen_zh_val[\"data\"]\n",
    "\n",
    "# vietnamese -> english\n",
    "vien_val = pd.DataFrame()\n",
    "vien_val[\"en_data\"] = vien_en_val[\"data\"]\n",
    "vien_val[\"vi_data\"] = vien_vi_val[\"data\"]"
   ]
  },
  {
   "cell_type": "code",
   "execution_count": 9,
   "metadata": {},
   "outputs": [],
   "source": [
    "class Lang:\n",
    "    def __init__(self, name):\n",
    "        self.name = name\n",
    "        self.word2index = {}\n",
    "        self.word2count = {}\n",
    "        self.index2word = {0: \"<SOS>\", 1: \"<EOS>\", 2:\"<UNK>\",3:\"<PAD>\"}\n",
    "        self.n_words = 4\n",
    "\n",
    "    def addSentence(self, sentence):\n",
    "        for word in sentence.split(\" \"):\n",
    "            self.addWord(word.lower())\n",
    "\n",
    "    def addWord(self, word):\n",
    "        if word not in self.word2index:\n",
    "            self.word2index[word] = self.n_words\n",
    "            self.word2count[word] = 1\n",
    "            self.index2word[self.n_words] = word\n",
    "            self.n_words += 1\n",
    "        else:\n",
    "            self.word2count[word] += 1"
   ]
  },
  {
   "cell_type": "code",
   "execution_count": 10,
   "metadata": {},
   "outputs": [],
   "source": [
    "def unicodeToAscii(s):\n",
    "    \"\"\"About \"NFC\" and \"NFD\": \n",
    "    \n",
    "    For each character, there are two normal forms: normal form C \n",
    "    and normal form D. Normal form D (NFD) is also known as canonical \n",
    "    decomposition, and translates each character into its decomposed form. \n",
    "    Normal form C (NFC) first applies a canonical decomposition, then composes \n",
    "    pre-combined characters again.\n",
    "    \n",
    "    About unicodedata.category: \n",
    "    \n",
    "    Returns the general category assigned to the Unicode character \n",
    "    unichr as string.\"\"\"\n",
    "    return ''.join(\n",
    "        c for c in unicodedata.normalize('NFD', s)\n",
    "        if unicodedata.category(c) != 'Mn'\n",
    "    )"
   ]
  },
  {
   "cell_type": "code",
   "execution_count": 11,
   "metadata": {},
   "outputs": [],
   "source": [
    "# vietnamese -> english\n",
    "vien_en_ = Lang(\"vien_en\")\n",
    "for s in vien_train[\"en_data\"]:\n",
    "    vien_en_.addSentence(s)\n",
    "    \n",
    "vien_vi_ = Lang(\"vi\")\n",
    "for s in vien_train[\"vi_data\"]:\n",
    "    vien_vi_.addSentence(s)\n",
    "    \n",
    "# chinese -> english\n",
    "zhen_en_ = Lang(\"zhen_en\")\n",
    "for s in zhen_train[\"en_data\"]:\n",
    "    zhen_en_.addSentence(s)\n",
    "    \n",
    "zhen_zh_ = Lang(\"zh\")\n",
    "for s in zhen_train[\"zh_data\"]:\n",
    "    zhen_zh_.addSentence(s)"
   ]
  },
  {
   "cell_type": "code",
   "execution_count": 15,
   "metadata": {},
   "outputs": [],
   "source": [
    "def split(data, lang=\"vi\"):\n",
    "    data[\"en_tokenized\"] = data[\"en_data\"].apply(lambda x: x.lower().split( ))\n",
    "    \n",
    "    if lang == \"vi\":\n",
    "        data[\"vi_tokenized\"] = data[\"vi_data\"].apply(lambda x: x.lower().split( ))\n",
    "    else:\n",
    "        data[\"zh_tokenized\"] = data[\"zh_data\"].apply(lambda x: x.lower().split( ))\n",
    "    return data"
   ]
  },
  {
   "cell_type": "code",
   "execution_count": 16,
   "metadata": {},
   "outputs": [],
   "source": [
    "# training\n",
    "\n",
    "# vietnamese -> english\n",
    "vien_train = split(vien_train, lang=\"vi\")\n",
    "\n",
    "# chinese -> english\n",
    "zhen_train = split(zhen_train, lang=\"zh\")"
   ]
  },
  {
   "cell_type": "code",
   "execution_count": 18,
   "metadata": {},
   "outputs": [
    {
     "data": {
      "text/html": [
       "<div>\n",
       "<style scoped>\n",
       "    .dataframe tbody tr th:only-of-type {\n",
       "        vertical-align: middle;\n",
       "    }\n",
       "\n",
       "    .dataframe tbody tr th {\n",
       "        vertical-align: top;\n",
       "    }\n",
       "\n",
       "    .dataframe thead th {\n",
       "        text-align: right;\n",
       "    }\n",
       "</style>\n",
       "<table border=\"1\" class=\"dataframe\">\n",
       "  <thead>\n",
       "    <tr style=\"text-align: right;\">\n",
       "      <th></th>\n",
       "      <th>en_data</th>\n",
       "      <th>zh_data</th>\n",
       "      <th>en_tokenized</th>\n",
       "      <th>zh_tokenized</th>\n",
       "    </tr>\n",
       "  </thead>\n",
       "  <tbody>\n",
       "    <tr>\n",
       "      <th>0</th>\n",
       "      <td>Life in the deep oceans</td>\n",
       "      <td>深海 海中 的 生命   大卫   盖罗</td>\n",
       "      <td>[life, in, the, deep, oceans]</td>\n",
       "      <td>[深海, 海中, 的, 生命, 大卫, 盖罗]</td>\n",
       "    </tr>\n",
       "    <tr>\n",
       "      <th>1</th>\n",
       "      <td>With vibrant video clips captured by submarine...</td>\n",
       "      <td>大卫   盖罗 通过 潜水 潜水艇 拍下 的 影片 把 我们 带到 了 地球 最 黑暗   ...</td>\n",
       "      <td>[with, vibrant, video, clips, captured, by, su...</td>\n",
       "      <td>[大卫, 盖罗, 通过, 潜水, 潜水艇, 拍下, 的, 影片, 把, 我们, 带到, 了,...</td>\n",
       "    </tr>\n",
       "    <tr>\n",
       "      <th>2</th>\n",
       "      <td>This is Bill Lange . I &amp;apos;m Dave Gallo .</td>\n",
       "      <td>大卫   盖罗   这位 是 比尔   兰格    我 是 大卫   盖罗</td>\n",
       "      <td>[this, is, bill, lange, ., i, &amp;apos;m, dave, g...</td>\n",
       "      <td>[大卫, 盖罗, 这位, 是, 比尔, 兰格, 我, 是, 大卫, 盖罗]</td>\n",
       "    </tr>\n",
       "  </tbody>\n",
       "</table>\n",
       "</div>"
      ],
      "text/plain": [
       "                                             en_data  \\\n",
       "0                            Life in the deep oceans   \n",
       "1  With vibrant video clips captured by submarine...   \n",
       "2        This is Bill Lange . I &apos;m Dave Gallo .   \n",
       "\n",
       "                                             zh_data  \\\n",
       "0                               深海 海中 的 生命   大卫   盖罗   \n",
       "1  大卫   盖罗 通过 潜水 潜水艇 拍下 的 影片 把 我们 带到 了 地球 最 黑暗   ...   \n",
       "2              大卫   盖罗   这位 是 比尔   兰格    我 是 大卫   盖罗   \n",
       "\n",
       "                                        en_tokenized  \\\n",
       "0                      [life, in, the, deep, oceans]   \n",
       "1  [with, vibrant, video, clips, captured, by, su...   \n",
       "2  [this, is, bill, lange, ., i, &apos;m, dave, g...   \n",
       "\n",
       "                                        zh_tokenized  \n",
       "0                            [深海, 海中, 的, 生命, 大卫, 盖罗]  \n",
       "1  [大卫, 盖罗, 通过, 潜水, 潜水艇, 拍下, 的, 影片, 把, 我们, 带到, 了,...  \n",
       "2              [大卫, 盖罗, 这位, 是, 比尔, 兰格, 我, 是, 大卫, 盖罗]  "
      ]
     },
     "execution_count": 18,
     "metadata": {},
     "output_type": "execute_result"
    }
   ],
   "source": [
    "zhen_train.head(3)"
   ]
  },
  {
   "cell_type": "code",
   "execution_count": 19,
   "metadata": {},
   "outputs": [],
   "source": [
    "# validation\n",
    "\n",
    "# vietnamese -> english\n",
    "vien_val = split(vien_val, lang=\"vi\")\n",
    "\n",
    "# chinese -> english\n",
    "zhen_val = split(zhen_val, lang=\"zh\")"
   ]
  },
  {
   "cell_type": "code",
   "execution_count": 20,
   "metadata": {},
   "outputs": [],
   "source": [
    "def token2index_dataset(data, source_language=\"zh\"):\n",
    "    \n",
    "    if source_language == \"zh\":\n",
    "        # chinese -> english\n",
    "        for language in [\"en\",\"zh\"]:\n",
    "            indices_data = []\n",
    "            if language == \"en\":\n",
    "                lang_obj = zhen_en_\n",
    "            else:\n",
    "                lang_obj = zhen_zh_\n",
    "                \n",
    "            for tokens in data[language + \"_tokenized\"]:\n",
    "                \n",
    "                index_list = [lang_obj.word2index[token] if token in lang_obj.word2index else UNK_IDX for token in tokens]\n",
    "                index_list.append(EOS_token)\n",
    "                indices_data.append(index_list)\n",
    "                \n",
    "            data[language + \"_indices\"] = indices_data\n",
    "    else:\n",
    "        # vietnamese -> english\n",
    "        for language in [\"en\",\"vi\"]:\n",
    "            indices_data = []\n",
    "            if language == \"en\":\n",
    "                lang_obj = vien_en_\n",
    "            else:\n",
    "                lang_obj = vien_vi_\n",
    "                \n",
    "            for tokens in data[language + \"_tokenized\"]:\n",
    "                \n",
    "                index_list = [lang_obj.word2index[token] if token in lang_obj.word2index else UNK_IDX for token in tokens]\n",
    "                index_list.append(EOS_token)\n",
    "                indices_data.append(index_list)\n",
    "                \n",
    "            data[language + \"_indices\"] = indices_data\n",
    "            \n",
    "    return data"
   ]
  },
  {
   "cell_type": "code",
   "execution_count": 22,
   "metadata": {},
   "outputs": [],
   "source": [
    "# training\n",
    "\n",
    "# vietnamese -> english\n",
    "vien_train = token2index_dataset(vien_train, source_language=\"vi\")\n",
    "\n",
    "# chinese -> english\n",
    "zhen_train = token2index_dataset(zhen_train, source_language=\"zh\")\n",
    "\n",
    "# validation\n",
    "\n",
    "# vietnamese -> english\n",
    "vien_val = token2index_dataset(vien_val, source_language=\"vi\")\n",
    "\n",
    "# chinese -> english\n",
    "zhen_val = token2index_dataset(zhen_val, source_language=\"zh\")"
   ]
  },
  {
   "cell_type": "code",
   "execution_count": 24,
   "metadata": {},
   "outputs": [],
   "source": [
    "# Datasets\n",
    "from torch.utils.data import Dataset\n",
    "\n",
    "# vietnamese -> english\n",
    "class Vietnamese(Dataset):\n",
    "    def __init__(self, data):\n",
    "        self.data = data\n",
    "        \n",
    "    def __len__(self):\n",
    "        return len(self.data)\n",
    "    \n",
    "    def __getitem__(self, idx):\n",
    "        \n",
    "        english = self.data.iloc[idx][\"en_indices\"]\n",
    "        vietnamese = self.data.iloc[idx][\"vi_indices\"]\n",
    "        en_lengths = self.data.iloc[idx][\"en_lengths\"]\n",
    "        vi_lengths = self.data.iloc[idx][\"vi_lengths\"]\n",
    "        \n",
    "        return [english, vietnamese, en_lengths, vi_lengths]\n",
    "    \n",
    "# chinese -> english\n",
    "class Chinese(Dataset):\n",
    "    def __init__(self, data):\n",
    "        self.data = data\n",
    "        \n",
    "    def __len__(self):\n",
    "        return len(self.data)\n",
    "    \n",
    "    def __getitem__(self, idx):\n",
    "        \n",
    "        english = self.data.iloc[idx][\"en_indices\"]\n",
    "        chinese = self.data.iloc[idx][\"zh_indices\"]\n",
    "        en_lengths = self.data.iloc[idx][\"en_lengths\"]\n",
    "        zh_lengths = self.data.iloc[idx][\"zh_lengths\"]\n",
    "        \n",
    "        return [english, chinese, en_lengths, zh_lengths]"
   ]
  },
  {
   "cell_type": "code",
   "execution_count": 28,
   "metadata": {},
   "outputs": [],
   "source": [
    "# get lengths \n",
    "\n",
    "# vietnamese -> english\n",
    "# train\n",
    "vien_train[\"en_lengths\"] = vien_train[\"en_indices\"].apply(lambda x: len(x))\n",
    "vien_train[\"vi_lengths\"] = vien_train[\"vi_indices\"].apply(lambda x:len(x))\n",
    "\n",
    "vien_train = vien_train[np.logical_and(vien_train[\"en_lengths\"]>=2,vien_train[\"vi_lengths\"]>=2)]\n",
    "vien_train = vien_train[vien_train[\"vi_lengths\"]<=30]\n",
    "\n",
    "# val\n",
    "vien_val[\"en_lengths\"] = vien_val[\"en_indices\"].apply(lambda x: len(x))\n",
    "vien_val[\"vi_lengths\"] = vien_val[\"vi_indices\"].apply(lambda x:len(x))\n",
    "\n",
    "vien_val = vien_val[np.logical_and(vien_val[\"en_lengths\"]>=2,vien_val[\"vi_lengths\"]>=2)]\n",
    "vien_val = vien_val[vien_val[\"vi_lengths\"]<=30]\n",
    "\n",
    "# chinese -> english\n",
    "# train\n",
    "zhen_train[\"en_lengths\"] = zhen_train[\"en_indices\"].apply(lambda x: len(x))\n",
    "zhen_train[\"zh_lengths\"] = zhen_train[\"zh_indices\"].apply(lambda x:len(x))\n",
    "# val\n",
    "zhen_val[\"en_lengths\"] = zhen_val[\"en_indices\"].apply(lambda x: len(x))\n",
    "zhen_val[\"zh_lengths\"] = zhen_val[\"zh_indices\"].apply(lambda x:len(x))\n",
    "\n",
    "zhen_train = zhen_train[np.logical_and(zhen_train[\"en_lengths\"]>=2,zhen_train[\"zh_lengths\"]>=2)]\n",
    "zhen_train = zhen_train[zhen_train[\"zh_lengths\"]<=30]\n",
    "\n",
    "zhen_val = zhen_val[np.logical_and(zhen_val[\"en_lengths\"]>=2,zhen_val[\"zh_lengths\"]>=2)]\n",
    "zhen_val = zhen_val[zhen_val[\"zh_lengths\"]<=30]"
   ]
  },
  {
   "cell_type": "code",
   "execution_count": 29,
   "metadata": {},
   "outputs": [
    {
     "data": {
      "text/html": [
       "<div>\n",
       "<style scoped>\n",
       "    .dataframe tbody tr th:only-of-type {\n",
       "        vertical-align: middle;\n",
       "    }\n",
       "\n",
       "    .dataframe tbody tr th {\n",
       "        vertical-align: top;\n",
       "    }\n",
       "\n",
       "    .dataframe thead th {\n",
       "        text-align: right;\n",
       "    }\n",
       "</style>\n",
       "<table border=\"1\" class=\"dataframe\">\n",
       "  <thead>\n",
       "    <tr style=\"text-align: right;\">\n",
       "      <th></th>\n",
       "      <th>en_data</th>\n",
       "      <th>zh_data</th>\n",
       "      <th>en_tokenized</th>\n",
       "      <th>zh_tokenized</th>\n",
       "      <th>en_indices</th>\n",
       "      <th>zh_indices</th>\n",
       "      <th>en_lengths</th>\n",
       "      <th>zh_lengths</th>\n",
       "    </tr>\n",
       "  </thead>\n",
       "  <tbody>\n",
       "    <tr>\n",
       "      <th>0</th>\n",
       "      <td>Life in the deep oceans</td>\n",
       "      <td>深海 海中 的 生命   大卫   盖罗</td>\n",
       "      <td>[life, in, the, deep, oceans]</td>\n",
       "      <td>[深海, 海中, 的, 生命, 大卫, 盖罗]</td>\n",
       "      <td>[4, 5, 6, 7, 8, 3]</td>\n",
       "      <td>[4, 5, 6, 7, 9, 10, 3]</td>\n",
       "      <td>6</td>\n",
       "      <td>7</td>\n",
       "    </tr>\n",
       "    <tr>\n",
       "      <th>2</th>\n",
       "      <td>This is Bill Lange . I &amp;apos;m Dave Gallo .</td>\n",
       "      <td>大卫   盖罗   这位 是 比尔   兰格    我 是 大卫   盖罗</td>\n",
       "      <td>[this, is, bill, lange, ., i, &amp;apos;m, dave, g...</td>\n",
       "      <td>[大卫, 盖罗, 这位, 是, 比尔, 兰格, 我, 是, 大卫, 盖罗]</td>\n",
       "      <td>[45, 39, 46, 47, 44, 48, 49, 50, 18, 44, 3]</td>\n",
       "      <td>[9, 10, 47, 32, 48, 49, 50, 32, 9, 10, 3]</td>\n",
       "      <td>11</td>\n",
       "      <td>11</td>\n",
       "    </tr>\n",
       "    <tr>\n",
       "      <th>3</th>\n",
       "      <td>And we &amp;apos;re going to tell you some stories...</td>\n",
       "      <td>我们 将 用 一些 影片 来讲 讲述 一些 深海 海里 的 故事</td>\n",
       "      <td>[and, we, &amp;apos;re, going, to, tell, you, some...</td>\n",
       "      <td>[我们, 将, 用, 一些, 影片, 来讲, 讲述, 一些, 深海, 海里, 的, 故事]</td>\n",
       "      <td>[30, 51, 52, 53, 21, 54, 55, 22, 56, 57, 6, 58...</td>\n",
       "      <td>[17, 51, 52, 53, 15, 54, 55, 53, 4, 56, 6, 57, 3]</td>\n",
       "      <td>17</td>\n",
       "      <td>13</td>\n",
       "    </tr>\n",
       "  </tbody>\n",
       "</table>\n",
       "</div>"
      ],
      "text/plain": [
       "                                             en_data  \\\n",
       "0                            Life in the deep oceans   \n",
       "2        This is Bill Lange . I &apos;m Dave Gallo .   \n",
       "3  And we &apos;re going to tell you some stories...   \n",
       "\n",
       "                                 zh_data  \\\n",
       "0                   深海 海中 的 生命   大卫   盖罗   \n",
       "2  大卫   盖罗   这位 是 比尔   兰格    我 是 大卫   盖罗   \n",
       "3       我们 将 用 一些 影片 来讲 讲述 一些 深海 海里 的 故事   \n",
       "\n",
       "                                        en_tokenized  \\\n",
       "0                      [life, in, the, deep, oceans]   \n",
       "2  [this, is, bill, lange, ., i, &apos;m, dave, g...   \n",
       "3  [and, we, &apos;re, going, to, tell, you, some...   \n",
       "\n",
       "                                    zh_tokenized  \\\n",
       "0                        [深海, 海中, 的, 生命, 大卫, 盖罗]   \n",
       "2          [大卫, 盖罗, 这位, 是, 比尔, 兰格, 我, 是, 大卫, 盖罗]   \n",
       "3  [我们, 将, 用, 一些, 影片, 来讲, 讲述, 一些, 深海, 海里, 的, 故事]   \n",
       "\n",
       "                                          en_indices  \\\n",
       "0                                 [4, 5, 6, 7, 8, 3]   \n",
       "2        [45, 39, 46, 47, 44, 48, 49, 50, 18, 44, 3]   \n",
       "3  [30, 51, 52, 53, 21, 54, 55, 22, 56, 57, 6, 58...   \n",
       "\n",
       "                                          zh_indices  en_lengths  zh_lengths  \n",
       "0                             [4, 5, 6, 7, 9, 10, 3]           6           7  \n",
       "2          [9, 10, 47, 32, 48, 49, 50, 32, 9, 10, 3]          11          11  \n",
       "3  [17, 51, 52, 53, 15, 54, 55, 53, 4, 56, 6, 57, 3]          17          13  "
      ]
     },
     "execution_count": 29,
     "metadata": {},
     "output_type": "execute_result"
    }
   ],
   "source": [
    "zhen_train.head(3)"
   ]
  },
  {
   "cell_type": "code",
   "execution_count": 104,
   "metadata": {},
   "outputs": [],
   "source": [
    "MAX_SENTENCE_LENGTH = 48\n",
    "BATCH_SIZE = 32\n",
    "\n",
    "def translation_collate_(batch):\n",
    "    \n",
    "    target_data = []\n",
    "    source_data = []\n",
    "    target_lengths = []\n",
    "    source_lengths = []\n",
    "\n",
    "    for datum in batch:\n",
    "        target_lengths.append(datum[2])\n",
    "        source_lengths.append(datum[3])\n",
    "        \n",
    "    # PAD\n",
    "    for datum in batch:\n",
    "        if datum[2] > MAX_SENTENCE_LENGTH:\n",
    "            padded_vec_target = np.array(datum[0])[:MAX_SENTENCE_LENGTH]\n",
    "        else:\n",
    "            padded_vec_target = np.pad(np.array(datum[0]),\n",
    "                                pad_width=((0,MAX_SENTENCE_LENGTH - datum[2])),\n",
    "                                mode=\"constant\", constant_values=PAD_IDX)\n",
    "            \n",
    "        if datum[3] > MAX_SENTENCE_LENGTH:\n",
    "            padded_vec_source = np.array(datum[1])[:MAX_SENTENCE_LENGTH]\n",
    "        else:\n",
    "            padded_vec_source = np.pad(np.array(datum[1]),\n",
    "                                pad_width=((0,MAX_SENTENCE_LENGTH - datum[3])),\n",
    "                                mode=\"constant\", constant_values=PAD_IDX)\n",
    "            \n",
    "        target_data.append(padded_vec_target)\n",
    "        source_data.append(padded_vec_source)\n",
    "        \n",
    "    return [torch.from_numpy(np.array(source_data)), torch.from_numpy(np.array(target_data)),\n",
    "            torch.from_numpy(np.array(source_lengths)), torch.from_numpy(np.array(target_lengths))]"
   ]
  },
  {
   "cell_type": "code",
   "execution_count": 105,
   "metadata": {},
   "outputs": [],
   "source": [
    "# vietnamese -> english\n",
    "vien_dataset = {\"train\": Vietnamese(vien_train), \"val\": Vietnamese(vien_val)}\n",
    "\n",
    "vien_loader = {x: DataLoader(vien_dataset[x], batch_size=BATCH_SIZE, \n",
    "                            collate_fn=translation_collate_,\n",
    "                            shuffle=False, num_workers=0) for x in [\"train\", \"val\"]}\n",
    "\n",
    "# chinese -> english\n",
    "zhen_dataset = {\"train\": Chinese(zhen_train), \"val\": Chinese(zhen_val)}\n",
    "\n",
    "zhen_loader = {x: DataLoader(zhen_dataset[x], batch_size=BATCH_SIZE,\n",
    "                             collate_fn=translation_collate_,\n",
    "                             shuffle=False, num_workers=0) for x in [\"train\", \"val\"]}"
   ]
  },
  {
   "cell_type": "code",
   "execution_count": 106,
   "metadata": {},
   "outputs": [],
   "source": [
    "# vietnamese -> english\n",
    "vien_train_data = next(iter(vien_loader[\"train\"]))\n",
    "vien_val_data = next(iter(vien_loader[\"val\"]))\n",
    "\n",
    "# chinese -> english\n",
    "zhen_train_data = next(iter(zhen_loader[\"train\"]))\n",
    "zhen_val_data = next(iter(zhen_loader[\"val\"]))"
   ]
  },
  {
   "cell_type": "code",
   "execution_count": 141,
   "metadata": {},
   "outputs": [],
   "source": [
    "def out_token_2_string(index_tensor, \n",
    "                       language):\n",
    "    sentence = []\n",
    "    for i in index_tensor:\n",
    "        if i.item() not in [0, 1, 3]: # <PAD>, <SOS>, <EOS>\n",
    "            sentence.append(language.index2word[i.item()])\n",
    "    return (' ').join(sentence)"
   ]
  },
  {
   "cell_type": "markdown",
   "metadata": {},
   "source": [
    "## Part 2: Model"
   ]
  },
  {
   "cell_type": "code",
   "execution_count": 108,
   "metadata": {},
   "outputs": [],
   "source": [
    "from sacreBLEU.sacreBLEU import corpus_bleu"
   ]
  },
  {
   "cell_type": "markdown",
   "metadata": {},
   "source": [
    "### 2.1: RNN Encoder-Decoder without Attention"
   ]
  },
  {
   "cell_type": "code",
   "execution_count": 109,
   "metadata": {},
   "outputs": [],
   "source": [
    "class RNNencoder(nn.Module):\n",
    "    \n",
    "    def __init__(self, \n",
    "                 input_size, \n",
    "                 hidden_size, \n",
    "                 num_gru_layers=1):\n",
    "        \n",
    "        super(RNNencoder, self).__init__()\n",
    "        \n",
    "        self.input_size = input_size\n",
    "        self.hidden_size = hidden_size\n",
    "        self.num_layers = num_gru_layers\n",
    "\n",
    "        self.embedding = nn.Embedding(self.input_size, \n",
    "                                      self.hidden_size,\n",
    "                                      padding_idx=0)\n",
    "        \n",
    "        self.GRU = nn.GRU(self.hidden_size, \n",
    "                          self.hidden_size,\n",
    "                          batch_first = True,\n",
    "                          bidirectional = False)\n",
    "        \n",
    "        if self.GRU.bidirectional:\n",
    "            self.num_directions = 2\n",
    "        else:\n",
    "            self.num_directions = 1\n",
    "        \n",
    "    def init_hidden(self, batch_size):\n",
    "        \n",
    "        return torch.zeros(self.num_layers*self.num_directions, \n",
    "                           batch_size, self.hidden_size).to(device)\n",
    "\n",
    "    def forward(self, source_sentence, source_lengths, hidden):\n",
    "        \n",
    "        sort_original_source = sorted(range(len(source_lengths)), \n",
    "                             key=lambda sentence: -source_lengths[sentence])\n",
    "        unsort_to_original_source = sorted(range(len(source_lengths)), \n",
    "                             key=lambda sentence: sort_original_source[sentence])\n",
    "        \n",
    "        source_sentence = source_sentence[sort_original_source]\n",
    "        source_lengths = source_lengths[sort_original_source]\n",
    "        batch_size, seq_len_source = source_sentence.size()\n",
    "        \n",
    "        embeds_source = self.embedding(source_sentence)\n",
    "        \n",
    "        embeds_source = torch.nn.utils.rnn.pack_padded_sequence(embeds_source, \n",
    "                                                                source_lengths, \n",
    "                                                                batch_first=True)\n",
    "        output = embeds_source\n",
    "        \n",
    "        output, hidden = self.GRU(output, hidden)\n",
    "        \n",
    "        hidden = hidden.view(batch_size, self.hidden_size)\n",
    "        \n",
    "        hidden = hidden[unsort_to_original_source] ## back to original indices\n",
    "        output, _ = torch.nn.utils.rnn.pad_packed_sequence(output, batch_first=True)\n",
    "        \n",
    "        hidden = hidden.view(1, batch_size, self.hidden_size)\n",
    "        \n",
    "        return hidden, output[unsort_to_original_source]"
   ]
  },
  {
   "cell_type": "code",
   "execution_count": 167,
   "metadata": {},
   "outputs": [],
   "source": [
    "class RNNdecoder(nn.Module):\n",
    "    \n",
    "    def __init__(self, \n",
    "                 hidden_size, \n",
    "                 vocab_size):\n",
    "        \n",
    "        super(RNNdecoder, self).__init__()\n",
    "        \n",
    "        self.hidden_size = hidden_size\n",
    "        self.vocab_size = vocab_size\n",
    "\n",
    "        self.embedding = nn.Embedding(self.vocab_size, \n",
    "                                      self.hidden_size,\n",
    "                                      padding_idx=0)\n",
    "        \n",
    "        \n",
    "        self.dropout = nn.Dropout(p=0.1)\n",
    "        \n",
    "        self.GRU = nn.GRU(self.hidden_size, \n",
    "                          self.hidden_size,\n",
    "                          batch_first=True)\n",
    "        \n",
    "\n",
    "        self.linear_layer = nn.Linear(self.hidden_size, self.vocab_size)\n",
    "        \n",
    "        self.log_softmax = nn.LogSoftmax(dim=1)\n",
    "        \n",
    "    def init_hidden(self, batch_size):\n",
    "        return torch.zeros(1, batch_size, self.hidden_size).to(device)\n",
    "\n",
    "    def forward(self, \n",
    "                input_, \n",
    "                decoder_hidden,\n",
    "                encoder_outputs=None):\n",
    "        \n",
    "        batch_size = input_.size(0)\n",
    "        output = self.embedding(input_)\n",
    "        output = self.dropout(output)\n",
    "        \n",
    "#         cat_out = torch.cat((output, decoder_hidden), 2)\n",
    "\n",
    "        output, decoder_hidden = self.GRU(output, decoder_hidden)\n",
    "\n",
    "        output = self.linear_layer(output.squeeze(dim=1))\n",
    "\n",
    "        output = self.log_softmax(output)\n",
    "\n",
    "        return output, decoder_hidden"
   ]
  },
  {
   "cell_type": "code",
   "execution_count": 360,
   "metadata": {},
   "outputs": [],
   "source": [
    "def encode_decode_rnn(encoder,\n",
    "                      decoder,\n",
    "                      data_source,\n",
    "                      data_target,\n",
    "                      source_lengths):\n",
    "    \n",
    "    use_teacher_forcing = True if random.random() < 0.6 else False\n",
    "    \n",
    "    batch_size = data_source.size(0)\n",
    "    encoder_hidden = encoder.init_hidden(batch_size)\n",
    "    \n",
    "    encoder_hidden, encoder_output = encoder(data_source,\n",
    "                                          source_lengths,\n",
    "                                          encoder_hidden)\n",
    "    \n",
    "    decoder_hidden = encoder_hidden\n",
    "    \n",
    "    decoder_input = torch.tensor([[SOS_token]]*batch_size).to(device)\n",
    "\n",
    "    if use_teacher_forcing:\n",
    "        \n",
    "        d_out = []\n",
    "         \n",
    "        for i in range(MAX_SENTENCE_LENGTH):\n",
    "            \n",
    "            decoder_output, decoder_hidden = decoder(decoder_input,\n",
    "                                                     decoder_hidden,\n",
    "                                                     encoder_outputs=encoder_output)\n",
    "            d_out.append(decoder_output.unsqueeze(-1))\n",
    "            decoder_input = data_target[:,i].view(-1,1)\n",
    "            \n",
    "        d_hidden = decoder_hidden\n",
    "        d_out = torch.cat(d_out,dim=-1)\n",
    "    else:\n",
    "        d_out = []\n",
    "        for i in range(MAX_SENTENCE_LENGTH):\n",
    "            \n",
    "            decoder_output, decoder_hidden = decoder(decoder_input, decoder_hidden,\n",
    "                                                     encoder_output)\n",
    "            d_out.append(decoder_output.unsqueeze(-1))\n",
    "            topv, topi = decoder_output.topk(1)\n",
    "            decoder_input = topi.squeeze().detach().view(-1,1)\n",
    "            \n",
    "        d_hidden = decoder_hidden\n",
    "        d_out = torch.cat(d_out,dim=-1)\n",
    "        \n",
    "    return d_out, d_hidden"
   ]
  },
  {
   "cell_type": "code",
   "execution_count": 361,
   "metadata": {},
   "outputs": [],
   "source": [
    "def validate_model(encoder, decoder, dataloader, loss_fun, lang_en=zhen_en_):\n",
    "    encoder.train(False)\n",
    "    decoder.train(False)\n",
    "    pred_corpus = []\n",
    "    true_corpus = []\n",
    "    running_loss = 0\n",
    "    running_total = 0\n",
    "    for data in dataloader:\n",
    "        encoder_i = data[0].to(device)\n",
    "        decoder_i = data[1].to(device)\n",
    "        source_lengths = data[2].to(device)\n",
    "        bs,sl = encoder_i.size()[:2]\n",
    "        out, hidden = encode_decode_rnn(encoder,decoder,encoder_i,decoder_i, source_lengths)\n",
    "        loss = loss_fun(out.float(), decoder_i.long())\n",
    "        running_loss += loss.item()*bs\n",
    "        running_total += bs\n",
    "        pred = torch.max(out,dim = 1)[1]\n",
    "        for t,p in zip(data[1],pred):\n",
    "            t,p = out_token_2_string(t,lang_en), out_token_2_string(p,lang_en)\n",
    "            true_corpus.append(t)\n",
    "            pred_corpus.append(p)\n",
    "    score = corpus_bleu(pred_corpus,[true_corpus],lowercase=True)[0]\n",
    "    return running_loss/running_total, score\n",
    "\n",
    "def train_model(encoder_optimizer,\n",
    "                decoder_optimizer, \n",
    "                encoder, decoder, \n",
    "                dataloader,\n",
    "                loss_function, \n",
    "                num_epochs=60,\n",
    "                lang_en=zhen_en_):\n",
    "    \n",
    "    best_score = 0\n",
    "    best_au = 0\n",
    "    loss_hist = {\"train\": [], \"val\": []}\n",
    "    acc_hist = {\"train\": [], \"val\": []}\n",
    "    for epoch in range(num_epochs):\n",
    "        print (\"epoch\", epoch)\n",
    "        for ex, phase in enumerate([\"train\"]):\n",
    "            start = time.time()\n",
    "            total = 0\n",
    "            top1_correct = 0\n",
    "            running_loss = 0\n",
    "            running_total = 0\n",
    "            if phase == \"train\":\n",
    "                encoder.train(True)\n",
    "                decoder.train(True)\n",
    "            else:\n",
    "                encoder.train(False)\n",
    "                decoder.train(False)\n",
    "                \n",
    "            for data in dataloader[phase]:\n",
    "                \n",
    "                encoder_optimizer.zero_grad()\n",
    "                decoder_optimizer.zero_grad()\n",
    "\n",
    "                encoder_i = data[0].to(device)\n",
    "                decoder_i = data[1].to(device)\n",
    "                source_lengths = data[2].to(device)\n",
    "                                \n",
    "                out, hidden = encode_decode_rnn(encoder, decoder, \n",
    "                                                encoder_i, decoder_i, \n",
    "                                                source_lengths)\n",
    "                \n",
    "                loss = loss_function(out.float(), decoder_i.long())\n",
    "                N = decoder_i.size(0)\n",
    "\n",
    "                running_loss += loss.item() * N\n",
    "                \n",
    "                total += N\n",
    "\n",
    "                if phase == \"train\":\n",
    "                    loss.backward()\n",
    "                    encoder_optimizer.step()\n",
    "                    decoder_optimizer.step()\n",
    "                    \n",
    "            loss, score = validate_model(encoder,decoder, dataloader[\"val\"],loss_function, lang_en)\n",
    "            print(\"Validation Loss = \", loss)\n",
    "            print(\"Validation BLEU = \", score)\n",
    "            loss, score = validate_model(encoder,decoder, dataloader[\"train\"],loss_function, lang_en)\n",
    "            print(\"Training Loss = \", loss)\n",
    "            print(\"Traning BLEU = \", score)\n",
    "#                 running_total += N\n",
    "            epoch_loss = running_loss / total\n",
    "#             epoch_acc = top1_correct / total\n",
    "            epoch_acc = 0\n",
    "            loss_hist[phase].append(epoch_loss)\n",
    "            acc_hist[phase].append(epoch_acc)\n",
    "            print(\"epoch {} {} loss = {}, accurancy = {} time = {}\".format(epoch, phase, epoch_loss, epoch_acc,\n",
    "                                                                           time.time() - start))\n",
    "        if phase == \"val\" and epoch_acc > best_score:\n",
    "            best_score = epoch_acc\n",
    "#             torch.save(model, save_dir+save_name+str(n_channel)+str(n_top)+str(vocab_size))\n",
    "    print(\"Training completed. Best accuracy is {}\".format(best_score))\n",
    "    return encoder,decoder"
   ]
  },
  {
   "cell_type": "code",
   "execution_count": 143,
   "metadata": {},
   "outputs": [],
   "source": [
    "# vietnamese -> english\n",
    "learning_rate = 1e-3\n",
    "encoder_ = RNNencoder(vien_vi_.n_words,300).to(device)\n",
    "decoder_ = RNNdecoder(300, vien_en_.n_words).to(device)\n",
    "\n",
    "encoder_optimizer = optim.Adam(encoder_.parameters(), lr=learning_rate)\n",
    "decoder_optimizer = optim.Adam(decoder_.parameters(), lr=learning_rate)\n",
    "\n",
    "criterion = nn.NLLLoss()"
   ]
  },
  {
   "cell_type": "code",
   "execution_count": 144,
   "metadata": {},
   "outputs": [
    {
     "name": "stdout",
     "output_type": "stream",
     "text": [
      "epoch 0\n"
     ]
    },
    {
     "name": "stderr",
     "output_type": "stream",
     "text": [
      "WARNING:root:That's 100 lines that end in a tokenized period ('.')\n",
      "WARNING:root:It looks like you forgot to detokenize your test data, which may hurt your score.\n",
      "WARNING:root:If you insist your data is detokenized, or don't care, you can suppress this message with '--force'.\n"
     ]
    },
    {
     "name": "stdout",
     "output_type": "stream",
     "text": [
      "Validation Loss =  1.9821176363497364\n",
      "Validation BLEU =  5.650892167679332\n"
     ]
    },
    {
     "name": "stderr",
     "output_type": "stream",
     "text": [
      "WARNING:root:That's 100 lines that end in a tokenized period ('.')\n",
      "WARNING:root:It looks like you forgot to detokenize your test data, which may hurt your score.\n",
      "WARNING:root:If you insist your data is detokenized, or don't care, you can suppress this message with '--force'.\n"
     ]
    },
    {
     "name": "stdout",
     "output_type": "stream",
     "text": [
      "Training Loss =  2.4124969797003755\n",
      "Traning BLEU =  5.4391965413619\n",
      "epoch 0 train loss = 2.6078720465540552, accurancy = 0 time = 902.2443535327911\n",
      "epoch 1\n"
     ]
    },
    {
     "name": "stderr",
     "output_type": "stream",
     "text": [
      "WARNING:root:That's 100 lines that end in a tokenized period ('.')\n",
      "WARNING:root:It looks like you forgot to detokenize your test data, which may hurt your score.\n",
      "WARNING:root:If you insist your data is detokenized, or don't care, you can suppress this message with '--force'.\n"
     ]
    },
    {
     "name": "stdout",
     "output_type": "stream",
     "text": [
      "Validation Loss =  1.8856912719960115\n",
      "Validation BLEU =  5.608043534440519\n"
     ]
    },
    {
     "name": "stderr",
     "output_type": "stream",
     "text": [
      "WARNING:root:That's 100 lines that end in a tokenized period ('.')\n",
      "WARNING:root:It looks like you forgot to detokenize your test data, which may hurt your score.\n",
      "WARNING:root:If you insist your data is detokenized, or don't care, you can suppress this message with '--force'.\n"
     ]
    },
    {
     "name": "stdout",
     "output_type": "stream",
     "text": [
      "Training Loss =  2.313281160345092\n",
      "Traning BLEU =  5.952884044515693\n",
      "epoch 1 train loss = 2.412149650576681, accurancy = 0 time = 901.9006140232086\n",
      "epoch 2\n"
     ]
    },
    {
     "name": "stderr",
     "output_type": "stream",
     "text": [
      "WARNING:root:That's 100 lines that end in a tokenized period ('.')\n",
      "WARNING:root:It looks like you forgot to detokenize your test data, which may hurt your score.\n",
      "WARNING:root:If you insist your data is detokenized, or don't care, you can suppress this message with '--force'.\n"
     ]
    },
    {
     "name": "stdout",
     "output_type": "stream",
     "text": [
      "Validation Loss =  2.008377187106074\n",
      "Validation BLEU =  5.218871476955363\n"
     ]
    },
    {
     "name": "stderr",
     "output_type": "stream",
     "text": [
      "WARNING:root:That's 100 lines that end in a tokenized period ('.')\n",
      "WARNING:root:It looks like you forgot to detokenize your test data, which may hurt your score.\n",
      "WARNING:root:If you insist your data is detokenized, or don't care, you can suppress this message with '--force'.\n"
     ]
    },
    {
     "name": "stdout",
     "output_type": "stream",
     "text": [
      "Training Loss =  2.270766274806683\n",
      "Traning BLEU =  6.100926628845955\n",
      "epoch 2 train loss = 2.3334374406396634, accurancy = 0 time = 905.1546671390533\n",
      "Training completed. Best accuracy is 0\n"
     ]
    }
   ],
   "source": [
    "enc, dec = train_model(encoder_optimizer, decoder_optimizer, encoder_, decoder_, \n",
    "                       vien_loader, criterion, num_epochs = 3, lang_en=vien_en_)"
   ]
  },
  {
   "cell_type": "code",
   "execution_count": 148,
   "metadata": {},
   "outputs": [
    {
     "name": "stdout",
     "output_type": "stream",
     "text": [
      "epoch 0\n"
     ]
    },
    {
     "name": "stderr",
     "output_type": "stream",
     "text": [
      "WARNING:root:That's 100 lines that end in a tokenized period ('.')\n",
      "WARNING:root:It looks like you forgot to detokenize your test data, which may hurt your score.\n",
      "WARNING:root:If you insist your data is detokenized, or don't care, you can suppress this message with '--force'.\n"
     ]
    },
    {
     "name": "stdout",
     "output_type": "stream",
     "text": [
      "Validation Loss =  1.9332467986143662\n",
      "Validation BLEU =  7.622414312900019\n"
     ]
    },
    {
     "name": "stderr",
     "output_type": "stream",
     "text": [
      "WARNING:root:That's 100 lines that end in a tokenized period ('.')\n",
      "WARNING:root:It looks like you forgot to detokenize your test data, which may hurt your score.\n",
      "WARNING:root:If you insist your data is detokenized, or don't care, you can suppress this message with '--force'.\n"
     ]
    },
    {
     "name": "stdout",
     "output_type": "stream",
     "text": [
      "Training Loss =  1.697795827667021\n",
      "Traning BLEU =  9.681527824055898\n",
      "epoch 0 train loss = 1.9247176439607387, accurancy = 0 time = 1698.2876951694489\n",
      "epoch 1\n"
     ]
    },
    {
     "name": "stderr",
     "output_type": "stream",
     "text": [
      "WARNING:root:That's 100 lines that end in a tokenized period ('.')\n",
      "WARNING:root:It looks like you forgot to detokenize your test data, which may hurt your score.\n",
      "WARNING:root:If you insist your data is detokenized, or don't care, you can suppress this message with '--force'.\n"
     ]
    },
    {
     "name": "stdout",
     "output_type": "stream",
     "text": [
      "Validation Loss =  1.801596927006096\n",
      "Validation BLEU =  8.128555771711278\n"
     ]
    },
    {
     "ename": "KeyboardInterrupt",
     "evalue": "",
     "output_type": "error",
     "traceback": [
      "\u001b[0;31m---------------------------------------------------------------------------\u001b[0m",
      "\u001b[0;31mKeyboardInterrupt\u001b[0m                         Traceback (most recent call last)",
      "\u001b[0;32m<ipython-input-148-ad7392541e13>\u001b[0m in \u001b[0;36m<module>\u001b[0;34m\u001b[0m\n\u001b[1;32m     10\u001b[0m \u001b[0;34m\u001b[0m\u001b[0m\n\u001b[1;32m     11\u001b[0m enc, dec = train_model(encoder_optimizer, decoder_optimizer, encoder_, decoder_, \n\u001b[0;32m---> 12\u001b[0;31m                        zhen_loader, criterion, num_epochs = 3, lang_en=zhen_en_)\n\u001b[0m",
      "\u001b[0;32m<ipython-input-147-de4e041dadf7>\u001b[0m in \u001b[0;36mtrain_model\u001b[0;34m(encoder_optimizer, decoder_optimizer, encoder, decoder, dataloader, loss_function, num_epochs, lang_en)\u001b[0m\n\u001b[1;32m     76\u001b[0m             \u001b[0mprint\u001b[0m\u001b[0;34m(\u001b[0m\u001b[0;34m\"Validation Loss = \"\u001b[0m\u001b[0;34m,\u001b[0m \u001b[0mloss\u001b[0m\u001b[0;34m)\u001b[0m\u001b[0;34m\u001b[0m\u001b[0m\n\u001b[1;32m     77\u001b[0m             \u001b[0mprint\u001b[0m\u001b[0;34m(\u001b[0m\u001b[0;34m\"Validation BLEU = \"\u001b[0m\u001b[0;34m,\u001b[0m \u001b[0mscore\u001b[0m\u001b[0;34m)\u001b[0m\u001b[0;34m\u001b[0m\u001b[0m\n\u001b[0;32m---> 78\u001b[0;31m             \u001b[0mloss\u001b[0m\u001b[0;34m,\u001b[0m \u001b[0mscore\u001b[0m \u001b[0;34m=\u001b[0m \u001b[0mvalidate_model\u001b[0m\u001b[0;34m(\u001b[0m\u001b[0mencoder\u001b[0m\u001b[0;34m,\u001b[0m\u001b[0mdecoder\u001b[0m\u001b[0;34m,\u001b[0m \u001b[0mdataloader\u001b[0m\u001b[0;34m[\u001b[0m\u001b[0;34m\"train\"\u001b[0m\u001b[0;34m]\u001b[0m\u001b[0;34m,\u001b[0m\u001b[0mloss_function\u001b[0m\u001b[0;34m,\u001b[0m \u001b[0mlang_en\u001b[0m\u001b[0;34m)\u001b[0m\u001b[0;34m\u001b[0m\u001b[0m\n\u001b[0m\u001b[1;32m     79\u001b[0m             \u001b[0mprint\u001b[0m\u001b[0;34m(\u001b[0m\u001b[0;34m\"Training Loss = \"\u001b[0m\u001b[0;34m,\u001b[0m \u001b[0mloss\u001b[0m\u001b[0;34m)\u001b[0m\u001b[0;34m\u001b[0m\u001b[0m\n\u001b[1;32m     80\u001b[0m             \u001b[0mprint\u001b[0m\u001b[0;34m(\u001b[0m\u001b[0;34m\"Traning BLEU = \"\u001b[0m\u001b[0;34m,\u001b[0m \u001b[0mscore\u001b[0m\u001b[0;34m)\u001b[0m\u001b[0;34m\u001b[0m\u001b[0m\n",
      "\u001b[0;32m<ipython-input-147-de4e041dadf7>\u001b[0m in \u001b[0;36mvalidate_model\u001b[0;34m(encoder, decoder, dataloader, loss_fun, lang_en)\u001b[0m\n\u001b[1;32m     13\u001b[0m         \u001b[0mout\u001b[0m\u001b[0;34m,\u001b[0m \u001b[0mhidden\u001b[0m \u001b[0;34m=\u001b[0m \u001b[0mencode_decode_rnn\u001b[0m\u001b[0;34m(\u001b[0m\u001b[0mencoder\u001b[0m\u001b[0;34m,\u001b[0m\u001b[0mdecoder\u001b[0m\u001b[0;34m,\u001b[0m\u001b[0mencoder_i\u001b[0m\u001b[0;34m,\u001b[0m\u001b[0mdecoder_i\u001b[0m\u001b[0;34m,\u001b[0m \u001b[0msource_lengths\u001b[0m\u001b[0;34m)\u001b[0m\u001b[0;34m\u001b[0m\u001b[0m\n\u001b[1;32m     14\u001b[0m         \u001b[0mloss\u001b[0m \u001b[0;34m=\u001b[0m \u001b[0mloss_fun\u001b[0m\u001b[0;34m(\u001b[0m\u001b[0mout\u001b[0m\u001b[0;34m.\u001b[0m\u001b[0mfloat\u001b[0m\u001b[0;34m(\u001b[0m\u001b[0;34m)\u001b[0m\u001b[0;34m,\u001b[0m \u001b[0mdecoder_i\u001b[0m\u001b[0;34m.\u001b[0m\u001b[0mlong\u001b[0m\u001b[0;34m(\u001b[0m\u001b[0;34m)\u001b[0m\u001b[0;34m)\u001b[0m\u001b[0;34m\u001b[0m\u001b[0m\n\u001b[0;32m---> 15\u001b[0;31m         \u001b[0mrunning_loss\u001b[0m \u001b[0;34m+=\u001b[0m \u001b[0mloss\u001b[0m\u001b[0;34m.\u001b[0m\u001b[0mitem\u001b[0m\u001b[0;34m(\u001b[0m\u001b[0;34m)\u001b[0m\u001b[0;34m*\u001b[0m\u001b[0mbs\u001b[0m\u001b[0;34m\u001b[0m\u001b[0m\n\u001b[0m\u001b[1;32m     16\u001b[0m         \u001b[0mrunning_total\u001b[0m \u001b[0;34m+=\u001b[0m \u001b[0mbs\u001b[0m\u001b[0;34m\u001b[0m\u001b[0m\n\u001b[1;32m     17\u001b[0m         \u001b[0mpred\u001b[0m \u001b[0;34m=\u001b[0m \u001b[0mtorch\u001b[0m\u001b[0;34m.\u001b[0m\u001b[0mmax\u001b[0m\u001b[0;34m(\u001b[0m\u001b[0mout\u001b[0m\u001b[0;34m,\u001b[0m\u001b[0mdim\u001b[0m \u001b[0;34m=\u001b[0m \u001b[0;36m1\u001b[0m\u001b[0;34m)\u001b[0m\u001b[0;34m[\u001b[0m\u001b[0;36m1\u001b[0m\u001b[0;34m]\u001b[0m\u001b[0;34m\u001b[0m\u001b[0m\n",
      "\u001b[0;31mKeyboardInterrupt\u001b[0m: "
     ]
    }
   ],
   "source": [
    "# chinese -> english\n",
    "learning_rate = 1e-3\n",
    "encoder_ = RNNencoder(zhen_zh_.n_words,300).to(device)\n",
    "decoder_ = RNNdecoder(300, zhen_en_.n_words).to(device)\n",
    "\n",
    "encoder_optimizer = optim.Adam(encoder_.parameters(), lr=learning_rate)\n",
    "decoder_optimizer = optim.Adam(decoder_.parameters(), lr=learning_rate)\n",
    "\n",
    "criterion = nn.NLLLoss()\n",
    "\n",
    "enc, dec = train_model(encoder_optimizer, decoder_optimizer, encoder_, decoder_, \n",
    "                       zhen_loader, criterion, num_epochs = 3, lang_en=zhen_en_)"
   ]
  },
  {
   "cell_type": "markdown",
   "metadata": {},
   "source": [
    "### 2.2: RNN Decoder with Attention"
   ]
  },
  {
   "cell_type": "code",
   "execution_count": null,
   "metadata": {},
   "outputs": [],
   "source": []
  },
  {
   "cell_type": "code",
   "execution_count": 427,
   "metadata": {},
   "outputs": [],
   "source": [
    "class AttnDecoderRNN(nn.Module):\n",
    "    def __init__(self, \n",
    "                 hidden_size = 300, \n",
    "                 output_size = vien_en_.n_words, \n",
    "                 bidirectional = False):\n",
    "        \n",
    "        super(AttnDecoderRNN, self).__init__()\n",
    "        \n",
    "        self.hidden_size = hidden_size\n",
    "        self.output_size = output_size\n",
    "\n",
    "        self.embedding = nn.Embedding(self.output_size, # vocab size\n",
    "                                      self.hidden_size) # embed_size = hidden_size\n",
    "        \n",
    "        self.dropout = nn.Dropout(p=0.1)\n",
    "        \n",
    "        self.GRU = nn.GRU(self.hidden_size, \n",
    "                          self.hidden_size,\n",
    "                          batch_first=True)\n",
    "        \n",
    "        self.attn = nn.Linear(self.hidden_size*2, self.hidden_size)\n",
    "        self.attn_drop = nn.Dropout(p = 0.5)\n",
    "        \n",
    "        self.attn_combine = nn.Linear(self.hidden_size*2, \n",
    "                                      self.hidden_size)\n",
    "\n",
    "        self.out = nn.Linear(self.hidden_size, \n",
    "                             self.output_size) # feed into softmax over vocabulary\n",
    "        \n",
    "        self.log_softmax = nn.LogSoftmax(dim=1) \n",
    "        \n",
    "    def init_hidden(self, batch_size):\n",
    "        \n",
    "        hidden_ = torch.zeros(1, batch_size, self.hidden_size).to(device)\n",
    "        \n",
    "        return hidden_\n",
    "\n",
    "    def forward(self, \n",
    "                input_, \n",
    "                hidden, \n",
    "                encoder_outputs):\n",
    "        \n",
    "        # decoder seq-len will always be 1\n",
    "        batch_size = input_.size(0)\n",
    "        \n",
    "        output = self.embedding(input_)\n",
    "        output = self.dropout(output)\n",
    "        \n",
    "        hidden = hidden.view(batch_size, 1, self.hidden_size)\n",
    "        \n",
    "        cat = torch.cat((output, hidden),2)\n",
    "        # 32, 1 , 600: B, S, H*2\n",
    "\n",
    "        att_out = self.attn_drop(self.attn(cat))\n",
    "        \n",
    "        attn_wts = F.softmax(torch.bmm(encoder_outputs,att_out.transpose(1,2)),dim = 1)\n",
    "        \n",
    "        attn_applied = torch.sum(encoder_outputs*attn_wts, dim = 1).unsqueeze(1)\n",
    "        \n",
    "        attn_cat = torch.cat((output, attn_applied), 2)\n",
    "        \n",
    "        attn_comb = self.attn_combine(attn_cat)\n",
    "        \n",
    "        output = F.relu(attn_comb)\n",
    "\n",
    "        output, hidden = self.GRU(output, hidden.view(1, batch_size, \n",
    "                                                      self.hidden_size)[0].unsqueeze(0))\n",
    "\n",
    "        output = self.out(output.squeeze(dim=1))\n",
    "\n",
    "        output = self.log_softmax(output)\n",
    "\n",
    "        return output, hidden"
   ]
  },
  {
   "cell_type": "code",
   "execution_count": 428,
   "metadata": {},
   "outputs": [],
   "source": [
    "learning_rate = 1e-4\n",
    "bi=True\n",
    "# bi=False\n",
    "encoder_ = RNNencoder(zhen_zh_.n_words,300,bi).to(device)\n",
    "decoder_ = AttnDecoderRNN(300,zhen_en_.n_words,bidirectional=False).to(device)\n",
    "encoder_optimizer = optim.Adam(encoder_.parameters(), lr=learning_rate)\n",
    "decoder_optimizer = optim.Adam(decoder_.parameters(), lr=learning_rate)\n",
    "criterion = nn.NLLLoss(ignore_index=0)"
   ]
  },
  {
   "cell_type": "code",
   "execution_count": 429,
   "metadata": {},
   "outputs": [
    {
     "name": "stdout",
     "output_type": "stream",
     "text": [
      "z size =  torch.Size([3, 2, 480])\n"
     ]
    }
   ],
   "source": [
    "X = torch.rand(3, 2, 3)\n",
    "Y = torch.rand(3, 3, 480)\n",
    "\n",
    "Z = torch.bmm(X, Y)\n",
    "print (\"z size = \",Z.size())"
   ]
  },
  {
   "cell_type": "code",
   "execution_count": 430,
   "metadata": {
    "scrolled": true
   },
   "outputs": [
    {
     "name": "stdout",
     "output_type": "stream",
     "text": [
      "epoch 0\n"
     ]
    },
    {
     "name": "stderr",
     "output_type": "stream",
     "text": [
      "WARNING:root:That's 100 lines that end in a tokenized period ('.')\n",
      "WARNING:root:It looks like you forgot to detokenize your test data, which may hurt your score.\n",
      "WARNING:root:If you insist your data is detokenized, or don't care, you can suppress this message with '--force'.\n"
     ]
    },
    {
     "name": "stdout",
     "output_type": "stream",
     "text": [
      "Validation Loss =  5.521294323556147\n",
      "Validation BLEU =  3.0026225215058857\n"
     ]
    },
    {
     "ename": "KeyboardInterrupt",
     "evalue": "",
     "output_type": "error",
     "traceback": [
      "\u001b[0;31m---------------------------------------------------------------------------\u001b[0m",
      "\u001b[0;31mKeyboardInterrupt\u001b[0m                         Traceback (most recent call last)",
      "\u001b[0;32m<ipython-input-430-b3e5382ce62c>\u001b[0m in \u001b[0;36m<module>\u001b[0;34m\u001b[0m\n\u001b[1;32m      1\u001b[0m enc_attn, dec_attn = train_model(encoder_optimizer, decoder_optimizer, \n\u001b[1;32m      2\u001b[0m                                  \u001b[0mencoder_\u001b[0m\u001b[0;34m,\u001b[0m \u001b[0mdecoder_\u001b[0m\u001b[0;34m,\u001b[0m\u001b[0;34m\u001b[0m\u001b[0m\n\u001b[0;32m----> 3\u001b[0;31m                                  zhen_loader, criterion, num_epochs = 3, lang_en=zhen_en_)\n\u001b[0m",
      "\u001b[0;32m<ipython-input-361-3d006b313fcb>\u001b[0m in \u001b[0;36mtrain_model\u001b[0;34m(encoder_optimizer, decoder_optimizer, encoder, decoder, dataloader, loss_function, num_epochs, lang_en)\u001b[0m\n\u001b[1;32m     78\u001b[0m             \u001b[0mprint\u001b[0m\u001b[0;34m(\u001b[0m\u001b[0;34m\"Validation Loss = \"\u001b[0m\u001b[0;34m,\u001b[0m \u001b[0mloss\u001b[0m\u001b[0;34m)\u001b[0m\u001b[0;34m\u001b[0m\u001b[0m\n\u001b[1;32m     79\u001b[0m             \u001b[0mprint\u001b[0m\u001b[0;34m(\u001b[0m\u001b[0;34m\"Validation BLEU = \"\u001b[0m\u001b[0;34m,\u001b[0m \u001b[0mscore\u001b[0m\u001b[0;34m)\u001b[0m\u001b[0;34m\u001b[0m\u001b[0m\n\u001b[0;32m---> 80\u001b[0;31m             \u001b[0mloss\u001b[0m\u001b[0;34m,\u001b[0m \u001b[0mscore\u001b[0m \u001b[0;34m=\u001b[0m \u001b[0mvalidate_model\u001b[0m\u001b[0;34m(\u001b[0m\u001b[0mencoder\u001b[0m\u001b[0;34m,\u001b[0m\u001b[0mdecoder\u001b[0m\u001b[0;34m,\u001b[0m \u001b[0mdataloader\u001b[0m\u001b[0;34m[\u001b[0m\u001b[0;34m\"train\"\u001b[0m\u001b[0;34m]\u001b[0m\u001b[0;34m,\u001b[0m\u001b[0mloss_function\u001b[0m\u001b[0;34m,\u001b[0m \u001b[0mlang_en\u001b[0m\u001b[0;34m)\u001b[0m\u001b[0;34m\u001b[0m\u001b[0m\n\u001b[0m\u001b[1;32m     81\u001b[0m             \u001b[0mprint\u001b[0m\u001b[0;34m(\u001b[0m\u001b[0;34m\"Training Loss = \"\u001b[0m\u001b[0;34m,\u001b[0m \u001b[0mloss\u001b[0m\u001b[0;34m)\u001b[0m\u001b[0;34m\u001b[0m\u001b[0m\n\u001b[1;32m     82\u001b[0m             \u001b[0mprint\u001b[0m\u001b[0;34m(\u001b[0m\u001b[0;34m\"Traning BLEU = \"\u001b[0m\u001b[0;34m,\u001b[0m \u001b[0mscore\u001b[0m\u001b[0;34m)\u001b[0m\u001b[0;34m\u001b[0m\u001b[0m\n",
      "\u001b[0;32m<ipython-input-361-3d006b313fcb>\u001b[0m in \u001b[0;36mvalidate_model\u001b[0;34m(encoder, decoder, dataloader, loss_fun, lang_en)\u001b[0m\n\u001b[1;32m     13\u001b[0m         \u001b[0mout\u001b[0m\u001b[0;34m,\u001b[0m \u001b[0mhidden\u001b[0m \u001b[0;34m=\u001b[0m \u001b[0mencode_decode_rnn\u001b[0m\u001b[0;34m(\u001b[0m\u001b[0mencoder\u001b[0m\u001b[0;34m,\u001b[0m\u001b[0mdecoder\u001b[0m\u001b[0;34m,\u001b[0m\u001b[0mencoder_i\u001b[0m\u001b[0;34m,\u001b[0m\u001b[0mdecoder_i\u001b[0m\u001b[0;34m,\u001b[0m \u001b[0msource_lengths\u001b[0m\u001b[0;34m)\u001b[0m\u001b[0;34m\u001b[0m\u001b[0m\n\u001b[1;32m     14\u001b[0m         \u001b[0mloss\u001b[0m \u001b[0;34m=\u001b[0m \u001b[0mloss_fun\u001b[0m\u001b[0;34m(\u001b[0m\u001b[0mout\u001b[0m\u001b[0;34m.\u001b[0m\u001b[0mfloat\u001b[0m\u001b[0;34m(\u001b[0m\u001b[0;34m)\u001b[0m\u001b[0;34m,\u001b[0m \u001b[0mdecoder_i\u001b[0m\u001b[0;34m.\u001b[0m\u001b[0mlong\u001b[0m\u001b[0;34m(\u001b[0m\u001b[0;34m)\u001b[0m\u001b[0;34m)\u001b[0m\u001b[0;34m\u001b[0m\u001b[0m\n\u001b[0;32m---> 15\u001b[0;31m         \u001b[0mrunning_loss\u001b[0m \u001b[0;34m+=\u001b[0m \u001b[0mloss\u001b[0m\u001b[0;34m.\u001b[0m\u001b[0mitem\u001b[0m\u001b[0;34m(\u001b[0m\u001b[0;34m)\u001b[0m\u001b[0;34m*\u001b[0m\u001b[0mbs\u001b[0m\u001b[0;34m\u001b[0m\u001b[0m\n\u001b[0m\u001b[1;32m     16\u001b[0m         \u001b[0mrunning_total\u001b[0m \u001b[0;34m+=\u001b[0m \u001b[0mbs\u001b[0m\u001b[0;34m\u001b[0m\u001b[0m\n\u001b[1;32m     17\u001b[0m         \u001b[0mpred\u001b[0m \u001b[0;34m=\u001b[0m \u001b[0mtorch\u001b[0m\u001b[0;34m.\u001b[0m\u001b[0mmax\u001b[0m\u001b[0;34m(\u001b[0m\u001b[0mout\u001b[0m\u001b[0;34m,\u001b[0m\u001b[0mdim\u001b[0m \u001b[0;34m=\u001b[0m \u001b[0;36m1\u001b[0m\u001b[0;34m)\u001b[0m\u001b[0;34m[\u001b[0m\u001b[0;36m1\u001b[0m\u001b[0;34m]\u001b[0m\u001b[0;34m\u001b[0m\u001b[0m\n",
      "\u001b[0;31mKeyboardInterrupt\u001b[0m: "
     ]
    }
   ],
   "source": [
    "enc_attn, dec_attn = train_model(encoder_optimizer, decoder_optimizer, \n",
    "                                 encoder_, decoder_, \n",
    "                                 zhen_loader, criterion, num_epochs = 3, lang_en=zhen_en_)"
   ]
  },
  {
   "cell_type": "code",
   "execution_count": null,
   "metadata": {},
   "outputs": [],
   "source": []
  },
  {
   "cell_type": "code",
   "execution_count": null,
   "metadata": {},
   "outputs": [],
   "source": []
  },
  {
   "cell_type": "markdown",
   "metadata": {},
   "source": [
    "### 2.3 CNN Encoder"
   ]
  },
  {
   "cell_type": "code",
   "execution_count": 351,
   "metadata": {},
   "outputs": [],
   "source": [
    "class CNNencoder(nn.Module):\n",
    "\n",
    "    def __init__(self, \n",
    "                 vocab_size, \n",
    "                 embed_size, \n",
    "                 hidden_size, \n",
    "                 kernel_size, \n",
    "                 num_layers,\n",
    "                 percent_dropout=0.5):\n",
    "        \n",
    "        super(CNNencoder, self).__init__()\n",
    "\n",
    "        self.num_layers = num_layers\n",
    "        self.hidden_size = hidden_size\n",
    "        self.kernel_size = kernel_size\n",
    "        self.embed_size = embed_size\n",
    "        self.vocab_size = vocab_size\n",
    "\n",
    "        self.embedding = nn.Embedding(self.vocab_size, \n",
    "                                      self.embed_size, \n",
    "                                      padding_idx=0)\n",
    "        \n",
    "        self.dropout = nn.Dropout(percent_dropout)\n",
    "        \n",
    "        in_channels = self.embed_size\n",
    "        \n",
    "        self.conv = nn.Conv1d(in_channels, self.hidden_size, kernel_size, \n",
    "                              padding=kernel_size//2)\n",
    "        \n",
    "        self.conv2 = nn.Conv1d(60, self.hidden_size, kernel_size, \n",
    "                              padding=kernel_size//2)\n",
    "        \n",
    "        self.relu = nn.ReLU()\n",
    "\n",
    "    def forward(self, source_sentence):\n",
    "        \n",
    "        batch_size, seq_len = source_sentence.size()\n",
    "        \n",
    "        embeds_source = self.embedding(source_sentence)\n",
    "        \n",
    "        out = self.conv(embeds_source.transpose(1, 2)).transpose(1,2)\n",
    "        out = self.relu(out)\n",
    "        out = F.max_pool1d(out, kernel_size=5, stride=5)\n",
    "        \n",
    "        out = self.conv2(out.transpose(1, 2)).transpose(1,2)\n",
    "        out = self.relu(out)\n",
    "        out = torch.mean(out, dim=1).view(1, batch_size, self.hidden_size)\n",
    "    \n",
    "        return out"
   ]
  },
  {
   "cell_type": "code",
   "execution_count": 352,
   "metadata": {},
   "outputs": [],
   "source": [
    "def encode_decode_cnn(encoder,\n",
    "                      decoder,\n",
    "                      data_source,\n",
    "                      data_target,\n",
    "                      source_lengths):\n",
    "    \n",
    "    use_teacher_forcing = True if random.random() < 0.6 else False\n",
    "    \n",
    "    batch_size = data_source.size(0)\n",
    "    \n",
    "    encoder_hidden = encoder(data_source)\n",
    "    \n",
    "    decoder_hidden = encoder_hidden\n",
    "    \n",
    "    decoder_input = torch.tensor([[SOS_token]]*batch_size).to(device)\n",
    "\n",
    "    if use_teacher_forcing:\n",
    "        \n",
    "        d_out = []\n",
    "         \n",
    "        for i in range(MAX_SENTENCE_LENGTH):\n",
    "            \n",
    "            decoder_output, decoder_hidden = decoder(decoder_input,\n",
    "                                                     decoder_hidden)\n",
    "            \n",
    "            d_out.append(decoder_output.unsqueeze(-1))\n",
    "            decoder_input = data_target[:,i].view(-1,1)\n",
    "            \n",
    "        d_hidden = decoder_hidden\n",
    "        d_out = torch.cat(d_out,dim=-1)\n",
    "    else:\n",
    "        d_out = []\n",
    "        for i in range(MAX_SENTENCE_LENGTH):\n",
    "            \n",
    "            decoder_output, decoder_hidden = decoder(decoder_input, decoder_hidden)\n",
    "            d_out.append(decoder_output.unsqueeze(-1))\n",
    "            topv, topi = decoder_output.topk(1)\n",
    "            decoder_input = topi.squeeze().detach().view(-1,1)\n",
    "            \n",
    "        d_hidden = decoder_hidden\n",
    "        d_out = torch.cat(d_out,dim=-1)\n",
    "        \n",
    "    return d_out, d_hidden"
   ]
  },
  {
   "cell_type": "code",
   "execution_count": 353,
   "metadata": {},
   "outputs": [],
   "source": [
    "def validate_model(encoder, decoder, dataloader, loss_fun, lang_en=zhen_en_):\n",
    "    encoder.train(False)\n",
    "    decoder.train(False)\n",
    "    pred_corpus = []\n",
    "    true_corpus = []\n",
    "    running_loss = 0\n",
    "    running_total = 0\n",
    "    for data in dataloader:\n",
    "        encoder_i = data[0].to(device)\n",
    "        decoder_i = data[1].to(device)\n",
    "        source_lengths = data[2].to(device)\n",
    "        bs,sl = encoder_i.size()[:2]\n",
    "        out, hidden = encode_decode_cnn(encoder,decoder,encoder_i,decoder_i, source_lengths)\n",
    "        loss = loss_fun(out.float(), decoder_i.long())\n",
    "        running_loss += loss.item()*bs\n",
    "        running_total += bs\n",
    "        pred = torch.max(out,dim = 1)[1]\n",
    "        for t,p in zip(data[1],pred):\n",
    "            t,p = out_token_2_string(t,lang_en), out_token_2_string(p,lang_en)\n",
    "            true_corpus.append(t)\n",
    "            pred_corpus.append(p)\n",
    "    score = corpus_bleu(pred_corpus,[true_corpus],lowercase=True)[0]\n",
    "    return running_loss/running_total, score\n",
    "\n",
    "def train_model(encoder_optimizer,\n",
    "                decoder_optimizer, \n",
    "                encoder, decoder, \n",
    "                dataloader,\n",
    "                loss_function, \n",
    "                num_epochs=60,\n",
    "                lang_en=zhen_en_):\n",
    "    \n",
    "    best_score = 0\n",
    "    best_au = 0\n",
    "    loss_hist = {\"train\": [], \"val\": []}\n",
    "    acc_hist = {\"train\": [], \"val\": []}\n",
    "    for epoch in range(num_epochs):\n",
    "        print (\"epoch\", epoch)\n",
    "        for ex, phase in enumerate([\"train\"]):\n",
    "            start = time.time()\n",
    "            total = 0\n",
    "            top1_correct = 0\n",
    "            running_loss = 0\n",
    "            running_total = 0\n",
    "            if phase == \"train\":\n",
    "                encoder.train(True)\n",
    "                decoder.train(True)\n",
    "            else:\n",
    "                encoder.train(False)\n",
    "                decoder.train(False)\n",
    "                \n",
    "            for data in dataloader[phase]:\n",
    "                \n",
    "                encoder_optimizer.zero_grad()\n",
    "                decoder_optimizer.zero_grad()\n",
    "\n",
    "                encoder_i = data[0].to(device)\n",
    "                decoder_i = data[1].to(device)\n",
    "                source_lengths = data[2].to(device)\n",
    "                                \n",
    "                out, hidden = encode_decode_cnn(encoder, decoder, \n",
    "                                                encoder_i, decoder_i, \n",
    "                                                source_lengths)\n",
    "                \n",
    "                loss = loss_function(out.float(), decoder_i.long())\n",
    "                N = decoder_i.size(0)\n",
    "\n",
    "                running_loss += loss.item()*N\n",
    "                \n",
    "                total += N\n",
    "\n",
    "                if phase == \"train\":\n",
    "                    loss.backward()\n",
    "                    encoder_optimizer.step()\n",
    "                    decoder_optimizer.step()\n",
    "                    \n",
    "            loss, score = validate_model(encoder,decoder, dataloader[\"val\"],loss_function, lang_en)\n",
    "            print(\"Validation Loss = \", loss)\n",
    "            print(\"Validation BLEU = \", score)\n",
    "            loss, score = validate_model(encoder,decoder, dataloader[\"train\"],loss_function, lang_en)\n",
    "            print(\"Training Loss = \", loss)\n",
    "            print(\"Traning BLEU = \", score)\n",
    "#                 running_total += N\n",
    "            epoch_loss = running_loss / total\n",
    "#             epoch_acc = top1_correct / total\n",
    "            epoch_acc = 0\n",
    "            loss_hist[phase].append(epoch_loss)\n",
    "            acc_hist[phase].append(epoch_acc)\n",
    "            print(\"epoch {} {} loss = {}, accurancy = {} time = {}\".format(epoch, phase, epoch_loss, epoch_acc,\n",
    "                                                                           time.time() - start))\n",
    "        if phase == \"val\" and epoch_acc > best_score:\n",
    "            best_score = epoch_acc\n",
    "#             torch.save(model, save_dir+save_name+str(n_channel)+str(n_top)+str(vocab_size))\n",
    "    print(\"Training completed. Best accuracy is {}\".format(best_score))\n",
    "    return encoder,decoder"
   ]
  },
  {
   "cell_type": "code",
   "execution_count": 354,
   "metadata": {},
   "outputs": [],
   "source": [
    "learning_rate = 1e-4\n",
    "bi=True\n",
    "# bi=False\n",
    "encoder_ = CNNencoder(zhen_zh_.n_words,\n",
    "                      300,300, 5,1,\n",
    "                      percent_dropout=0.3).to(device)\n",
    "\n",
    "decoder_ = RNNdecoder(300,zhen_en_.n_words).to(device)\n",
    "encoder_optimizer = optim.Adam(encoder_.parameters(), lr=learning_rate)\n",
    "decoder_optimizer = optim.Adam(decoder_.parameters(), lr=learning_rate)\n",
    "criterion = nn.NLLLoss(ignore_index=0)"
   ]
  },
  {
   "cell_type": "code",
   "execution_count": 355,
   "metadata": {
    "scrolled": true
   },
   "outputs": [
    {
     "name": "stdout",
     "output_type": "stream",
     "text": [
      "epoch 0\n"
     ]
    },
    {
     "name": "stderr",
     "output_type": "stream",
     "text": [
      "WARNING:root:That's 100 lines that end in a tokenized period ('.')\n",
      "WARNING:root:It looks like you forgot to detokenize your test data, which may hurt your score.\n",
      "WARNING:root:If you insist your data is detokenized, or don't care, you can suppress this message with '--force'.\n"
     ]
    },
    {
     "name": "stdout",
     "output_type": "stream",
     "text": [
      "Validation Loss =  2.0075799999086135\n",
      "Validation BLEU =  6.015097639602013\n"
     ]
    },
    {
     "name": "stderr",
     "output_type": "stream",
     "text": [
      "WARNING:root:That's 100 lines that end in a tokenized period ('.')\n",
      "WARNING:root:It looks like you forgot to detokenize your test data, which may hurt your score.\n",
      "WARNING:root:If you insist your data is detokenized, or don't care, you can suppress this message with '--force'.\n"
     ]
    },
    {
     "name": "stdout",
     "output_type": "stream",
     "text": [
      "Training Loss =  1.9711387605708715\n",
      "Traning BLEU =  6.245280354192027\n",
      "epoch 0 train loss = 2.2194282125410028, accurancy = 0 time = 1621.194352388382\n",
      "epoch 1\n"
     ]
    },
    {
     "name": "stderr",
     "output_type": "stream",
     "text": [
      "WARNING:root:That's 100 lines that end in a tokenized period ('.')\n",
      "WARNING:root:It looks like you forgot to detokenize your test data, which may hurt your score.\n",
      "WARNING:root:If you insist your data is detokenized, or don't care, you can suppress this message with '--force'.\n"
     ]
    },
    {
     "name": "stdout",
     "output_type": "stream",
     "text": [
      "Validation Loss =  1.9987231105064898\n",
      "Validation BLEU =  5.756828060121056\n"
     ]
    },
    {
     "ename": "KeyboardInterrupt",
     "evalue": "",
     "output_type": "error",
     "traceback": [
      "\u001b[0;31m---------------------------------------------------------------------------\u001b[0m",
      "\u001b[0;31mKeyboardInterrupt\u001b[0m                         Traceback (most recent call last)",
      "\u001b[0;32m<ipython-input-355-546b1d76c123>\u001b[0m in \u001b[0;36m<module>\u001b[0;34m\u001b[0m\n\u001b[1;32m      1\u001b[0m enc, dec = train_model(encoder_optimizer, decoder_optimizer, encoder_, decoder_, \n\u001b[0;32m----> 2\u001b[0;31m                        zhen_loader, criterion, num_epochs = 3, lang_en=zhen_en_)\n\u001b[0m",
      "\u001b[0;32m<ipython-input-353-ee9cf76ed314>\u001b[0m in \u001b[0;36mtrain_model\u001b[0;34m(encoder_optimizer, decoder_optimizer, encoder, decoder, dataloader, loss_function, num_epochs, lang_en)\u001b[0m\n\u001b[1;32m     78\u001b[0m             \u001b[0mprint\u001b[0m\u001b[0;34m(\u001b[0m\u001b[0;34m\"Validation Loss = \"\u001b[0m\u001b[0;34m,\u001b[0m \u001b[0mloss\u001b[0m\u001b[0;34m)\u001b[0m\u001b[0;34m\u001b[0m\u001b[0m\n\u001b[1;32m     79\u001b[0m             \u001b[0mprint\u001b[0m\u001b[0;34m(\u001b[0m\u001b[0;34m\"Validation BLEU = \"\u001b[0m\u001b[0;34m,\u001b[0m \u001b[0mscore\u001b[0m\u001b[0;34m)\u001b[0m\u001b[0;34m\u001b[0m\u001b[0m\n\u001b[0;32m---> 80\u001b[0;31m             \u001b[0mloss\u001b[0m\u001b[0;34m,\u001b[0m \u001b[0mscore\u001b[0m \u001b[0;34m=\u001b[0m \u001b[0mvalidate_model\u001b[0m\u001b[0;34m(\u001b[0m\u001b[0mencoder\u001b[0m\u001b[0;34m,\u001b[0m\u001b[0mdecoder\u001b[0m\u001b[0;34m,\u001b[0m \u001b[0mdataloader\u001b[0m\u001b[0;34m[\u001b[0m\u001b[0;34m\"train\"\u001b[0m\u001b[0;34m]\u001b[0m\u001b[0;34m,\u001b[0m\u001b[0mloss_function\u001b[0m\u001b[0;34m,\u001b[0m \u001b[0mlang_en\u001b[0m\u001b[0;34m)\u001b[0m\u001b[0;34m\u001b[0m\u001b[0m\n\u001b[0m\u001b[1;32m     81\u001b[0m             \u001b[0mprint\u001b[0m\u001b[0;34m(\u001b[0m\u001b[0;34m\"Training Loss = \"\u001b[0m\u001b[0;34m,\u001b[0m \u001b[0mloss\u001b[0m\u001b[0;34m)\u001b[0m\u001b[0;34m\u001b[0m\u001b[0m\n\u001b[1;32m     82\u001b[0m             \u001b[0mprint\u001b[0m\u001b[0;34m(\u001b[0m\u001b[0;34m\"Traning BLEU = \"\u001b[0m\u001b[0;34m,\u001b[0m \u001b[0mscore\u001b[0m\u001b[0;34m)\u001b[0m\u001b[0;34m\u001b[0m\u001b[0m\n",
      "\u001b[0;32m<ipython-input-353-ee9cf76ed314>\u001b[0m in \u001b[0;36mvalidate_model\u001b[0;34m(encoder, decoder, dataloader, loss_fun, lang_en)\u001b[0m\n\u001b[1;32m      9\u001b[0m         \u001b[0mencoder_i\u001b[0m \u001b[0;34m=\u001b[0m \u001b[0mdata\u001b[0m\u001b[0;34m[\u001b[0m\u001b[0;36m0\u001b[0m\u001b[0;34m]\u001b[0m\u001b[0;34m.\u001b[0m\u001b[0mto\u001b[0m\u001b[0;34m(\u001b[0m\u001b[0mdevice\u001b[0m\u001b[0;34m)\u001b[0m\u001b[0;34m\u001b[0m\u001b[0m\n\u001b[1;32m     10\u001b[0m         \u001b[0mdecoder_i\u001b[0m \u001b[0;34m=\u001b[0m \u001b[0mdata\u001b[0m\u001b[0;34m[\u001b[0m\u001b[0;36m1\u001b[0m\u001b[0;34m]\u001b[0m\u001b[0;34m.\u001b[0m\u001b[0mto\u001b[0m\u001b[0;34m(\u001b[0m\u001b[0mdevice\u001b[0m\u001b[0;34m)\u001b[0m\u001b[0;34m\u001b[0m\u001b[0m\n\u001b[0;32m---> 11\u001b[0;31m         \u001b[0msource_lengths\u001b[0m \u001b[0;34m=\u001b[0m \u001b[0mdata\u001b[0m\u001b[0;34m[\u001b[0m\u001b[0;36m2\u001b[0m\u001b[0;34m]\u001b[0m\u001b[0;34m.\u001b[0m\u001b[0mto\u001b[0m\u001b[0;34m(\u001b[0m\u001b[0mdevice\u001b[0m\u001b[0;34m)\u001b[0m\u001b[0;34m\u001b[0m\u001b[0m\n\u001b[0m\u001b[1;32m     12\u001b[0m         \u001b[0mbs\u001b[0m\u001b[0;34m,\u001b[0m\u001b[0msl\u001b[0m \u001b[0;34m=\u001b[0m \u001b[0mencoder_i\u001b[0m\u001b[0;34m.\u001b[0m\u001b[0msize\u001b[0m\u001b[0;34m(\u001b[0m\u001b[0;34m)\u001b[0m\u001b[0;34m[\u001b[0m\u001b[0;34m:\u001b[0m\u001b[0;36m2\u001b[0m\u001b[0;34m]\u001b[0m\u001b[0;34m\u001b[0m\u001b[0m\n\u001b[1;32m     13\u001b[0m         \u001b[0mout\u001b[0m\u001b[0;34m,\u001b[0m \u001b[0mhidden\u001b[0m \u001b[0;34m=\u001b[0m \u001b[0mencode_decode_cnn\u001b[0m\u001b[0;34m(\u001b[0m\u001b[0mencoder\u001b[0m\u001b[0;34m,\u001b[0m\u001b[0mdecoder\u001b[0m\u001b[0;34m,\u001b[0m\u001b[0mencoder_i\u001b[0m\u001b[0;34m,\u001b[0m\u001b[0mdecoder_i\u001b[0m\u001b[0;34m,\u001b[0m \u001b[0msource_lengths\u001b[0m\u001b[0;34m)\u001b[0m\u001b[0;34m\u001b[0m\u001b[0m\n",
      "\u001b[0;31mKeyboardInterrupt\u001b[0m: "
     ]
    }
   ],
   "source": [
    "enc, dec = train_model(encoder_optimizer, decoder_optimizer, encoder_, decoder_, \n",
    "                       zhen_loader, criterion, num_epochs = 3, lang_en=zhen_en_)"
   ]
  },
  {
   "cell_type": "code",
   "execution_count": null,
   "metadata": {},
   "outputs": [],
   "source": []
  }
 ],
 "metadata": {
  "kernelspec": {
   "display_name": "Python 3",
   "language": "python",
   "name": "python3"
  }
 },
 "nbformat": 4,
 "nbformat_minor": 2
}
